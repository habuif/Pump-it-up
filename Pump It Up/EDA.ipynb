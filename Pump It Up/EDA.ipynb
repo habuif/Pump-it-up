{
 "cells": [
  {
   "cell_type": "code",
   "execution_count": 1,
   "metadata": {},
   "outputs": [],
   "source": [
    "import numpy as np \n",
    "import seaborn as sns\n",
    "import matplotlib.pyplot as plt\n",
    "import scipy as sc\n",
    "import pandas as pd\n",
    "from sklearn.base import BaseEstimator,TransformerMixin\n",
    "from sklearn.preprocessing import OneHotEncoder"
   ]
  },
  {
   "cell_type": "code",
   "execution_count": 2,
   "metadata": {},
   "outputs": [],
   "source": [
    "\n",
    "def categorize_features(x,selected_features):\n",
    "    if x in selected_features:\n",
    "        return x.lower()\n",
    "    elif x in [None,np.NAN,np.NaN,np.nan]:\n",
    "        return 'unknown'\n",
    "    else:\n",
    "        return \"other\"\n",
    "def simplyfying_features(column,data,no_selected):\n",
    "    selected_features = data[column].value_counts().sort_values(ascending=False).head(no_selected).index\n",
    "    return selected_features\n",
    "\n",
    "def detect_skewed_features(dataset):\n",
    "    features = dataset.select_dtypes(include=['int','float']).columns\n",
    "    set_f = dataset[features].skew(axis=0, skipna = True).sort_values(ascending=False)\n",
    "    return set_f[set_f>2].index"
   ]
  },
  {
   "cell_type": "code",
   "execution_count": 3,
   "metadata": {},
   "outputs": [],
   "source": [
    "X = pd.read_csv('Train_values.csv')\n",
    "Y = pd.read_csv('Train_labels.csv')\n",
    "test  = pd.read_csv('Test_values.csv')\n",
    "\n",
    "train = pd.merge(X,Y,on='id')"
   ]
  },
  {
   "cell_type": "markdown",
   "metadata": {},
   "source": [
    "- Features that are abs(skew) > 0.5 should be log transformed. Log transform will help lessen the impact of outliers."
   ]
  },
  {
   "cell_type": "code",
   "execution_count": 4,
   "metadata": {},
   "outputs": [
    {
     "name": "stderr",
     "output_type": "stream",
     "text": [
      "c:\\Users\\ADMIN\\anaconda3\\lib\\site-packages\\seaborn\\distributions.py:2619: FutureWarning: `distplot` is a deprecated function and will be removed in a future version. Please adapt your code to use either `displot` (a figure-level function with similar flexibility) or `histplot` (an axes-level function for histograms).\n",
      "  warnings.warn(msg, FutureWarning)\n"
     ]
    },
    {
     "data": {
      "text/plain": [
       "<AxesSubplot:xlabel='num_private', ylabel='Density'>"
      ]
     },
     "execution_count": 4,
     "metadata": {},
     "output_type": "execute_result"
    },
    {
     "data": {
      "image/png": "[encoded data removed]",
      "text/plain": [
       "<Figure size 432x288 with 1 Axes>"
      ]
     },
     "metadata": {
      "needs_background": "light"
     },
     "output_type": "display_data"
    }
   ],
   "source": [
    "sns.distplot(train['num_private'])"
   ]
  },
  {
   "cell_type": "code",
   "execution_count": 5,
   "metadata": {},
   "outputs": [
    {
     "data": {
      "text/html": [
       "<div>\n",
       "<style scoped>\n",
       "    .dataframe tbody tr th:only-of-type {\n",
       "        vertical-align: middle;\n",
       "    }\n",
       "\n",
       "    .dataframe tbody tr th {\n",
       "        vertical-align: top;\n",
       "    }\n",
       "\n",
       "    .dataframe thead th {\n",
       "        text-align: right;\n",
       "    }\n",
       "</style>\n",
       "<table border=\"1\" class=\"dataframe\">\n",
       "  <thead>\n",
       "    <tr style=\"text-align: right;\">\n",
       "      <th></th>\n",
       "      <th>id</th>\n",
       "      <th>amount_tsh</th>\n",
       "      <th>date_recorded</th>\n",
       "      <th>funder</th>\n",
       "      <th>gps_height</th>\n",
       "      <th>installer</th>\n",
       "      <th>longitude</th>\n",
       "      <th>latitude</th>\n",
       "      <th>wpt_name</th>\n",
       "      <th>num_private</th>\n",
       "      <th>...</th>\n",
       "      <th>water_quality</th>\n",
       "      <th>quality_group</th>\n",
       "      <th>quantity</th>\n",
       "      <th>quantity_group</th>\n",
       "      <th>source</th>\n",
       "      <th>source_type</th>\n",
       "      <th>source_class</th>\n",
       "      <th>waterpoint_type</th>\n",
       "      <th>waterpoint_type_group</th>\n",
       "      <th>status_group</th>\n",
       "    </tr>\n",
       "  </thead>\n",
       "  <tbody>\n",
       "    <tr>\n",
       "      <th>469</th>\n",
       "      <td>43604</td>\n",
       "      <td>0.0</td>\n",
       "      <td>3/23/2011</td>\n",
       "      <td>Unhcr</td>\n",
       "      <td>288</td>\n",
       "      <td>REDESO</td>\n",
       "      <td>38.517002</td>\n",
       "      <td>-5.591650</td>\n",
       "      <td>Kwa Mazenyeko</td>\n",
       "      <td>39</td>\n",
       "      <td>...</td>\n",
       "      <td>salty</td>\n",
       "      <td>salty</td>\n",
       "      <td>insufficient</td>\n",
       "      <td>insufficient</td>\n",
       "      <td>shallow well</td>\n",
       "      <td>shallow well</td>\n",
       "      <td>groundwater</td>\n",
       "      <td>hand pump</td>\n",
       "      <td>hand pump</td>\n",
       "      <td>non functional</td>\n",
       "    </tr>\n",
       "    <tr>\n",
       "      <th>476</th>\n",
       "      <td>27523</td>\n",
       "      <td>20.0</td>\n",
       "      <td>2/24/2011</td>\n",
       "      <td>Private</td>\n",
       "      <td>-32</td>\n",
       "      <td>Priva</td>\n",
       "      <td>38.979944</td>\n",
       "      <td>-7.954320</td>\n",
       "      <td>Kiambwe</td>\n",
       "      <td>5</td>\n",
       "      <td>...</td>\n",
       "      <td>soft</td>\n",
       "      <td>good</td>\n",
       "      <td>enough</td>\n",
       "      <td>enough</td>\n",
       "      <td>machine dbh</td>\n",
       "      <td>borehole</td>\n",
       "      <td>groundwater</td>\n",
       "      <td>communal standpipe</td>\n",
       "      <td>communal standpipe</td>\n",
       "      <td>functional</td>\n",
       "    </tr>\n",
       "    <tr>\n",
       "      <th>519</th>\n",
       "      <td>72238</td>\n",
       "      <td>0.0</td>\n",
       "      <td>3/13/2011</td>\n",
       "      <td>Tardo</td>\n",
       "      <td>1794</td>\n",
       "      <td>Tardo</td>\n",
       "      <td>38.245052</td>\n",
       "      <td>-4.661949</td>\n",
       "      <td>Kwa Mzee Hamisi</td>\n",
       "      <td>45</td>\n",
       "      <td>...</td>\n",
       "      <td>soft</td>\n",
       "      <td>good</td>\n",
       "      <td>enough</td>\n",
       "      <td>enough</td>\n",
       "      <td>spring</td>\n",
       "      <td>spring</td>\n",
       "      <td>groundwater</td>\n",
       "      <td>communal standpipe</td>\n",
       "      <td>communal standpipe</td>\n",
       "      <td>functional</td>\n",
       "    </tr>\n",
       "    <tr>\n",
       "      <th>527</th>\n",
       "      <td>26851</td>\n",
       "      <td>0.0</td>\n",
       "      <td>3/20/2011</td>\n",
       "      <td>Sabemo</td>\n",
       "      <td>1665</td>\n",
       "      <td>Chamavita</td>\n",
       "      <td>38.345578</td>\n",
       "      <td>-4.749421</td>\n",
       "      <td>Kwa Mzee Sau</td>\n",
       "      <td>6</td>\n",
       "      <td>...</td>\n",
       "      <td>soft</td>\n",
       "      <td>good</td>\n",
       "      <td>enough</td>\n",
       "      <td>enough</td>\n",
       "      <td>spring</td>\n",
       "      <td>spring</td>\n",
       "      <td>groundwater</td>\n",
       "      <td>communal standpipe</td>\n",
       "      <td>communal standpipe</td>\n",
       "      <td>functional</td>\n",
       "    </tr>\n",
       "    <tr>\n",
       "      <th>608</th>\n",
       "      <td>71658</td>\n",
       "      <td>0.0</td>\n",
       "      <td>3/25/2011</td>\n",
       "      <td>District Council</td>\n",
       "      <td>289</td>\n",
       "      <td>Handeni Trunk Main(</td>\n",
       "      <td>38.545166</td>\n",
       "      <td>-5.257279</td>\n",
       "      <td>Kwa Samakudu</td>\n",
       "      <td>3</td>\n",
       "      <td>...</td>\n",
       "      <td>soft</td>\n",
       "      <td>good</td>\n",
       "      <td>enough</td>\n",
       "      <td>enough</td>\n",
       "      <td>river</td>\n",
       "      <td>river/lake</td>\n",
       "      <td>surface</td>\n",
       "      <td>communal standpipe</td>\n",
       "      <td>communal standpipe</td>\n",
       "      <td>non functional</td>\n",
       "    </tr>\n",
       "    <tr>\n",
       "      <th>...</th>\n",
       "      <td>...</td>\n",
       "      <td>...</td>\n",
       "      <td>...</td>\n",
       "      <td>...</td>\n",
       "      <td>...</td>\n",
       "      <td>...</td>\n",
       "      <td>...</td>\n",
       "      <td>...</td>\n",
       "      <td>...</td>\n",
       "      <td>...</td>\n",
       "      <td>...</td>\n",
       "      <td>...</td>\n",
       "      <td>...</td>\n",
       "      <td>...</td>\n",
       "      <td>...</td>\n",
       "      <td>...</td>\n",
       "      <td>...</td>\n",
       "      <td>...</td>\n",
       "      <td>...</td>\n",
       "      <td>...</td>\n",
       "      <td>...</td>\n",
       "    </tr>\n",
       "    <tr>\n",
       "      <th>58924</th>\n",
       "      <td>10750</td>\n",
       "      <td>0.0</td>\n",
       "      <td>3/20/2011</td>\n",
       "      <td>Sabemo</td>\n",
       "      <td>1824</td>\n",
       "      <td>Chamavita</td>\n",
       "      <td>38.334293</td>\n",
       "      <td>-4.746389</td>\n",
       "      <td>Kwesim</td>\n",
       "      <td>6</td>\n",
       "      <td>...</td>\n",
       "      <td>soft</td>\n",
       "      <td>good</td>\n",
       "      <td>enough</td>\n",
       "      <td>enough</td>\n",
       "      <td>spring</td>\n",
       "      <td>spring</td>\n",
       "      <td>groundwater</td>\n",
       "      <td>communal standpipe</td>\n",
       "      <td>communal standpipe</td>\n",
       "      <td>functional</td>\n",
       "    </tr>\n",
       "    <tr>\n",
       "      <th>58943</th>\n",
       "      <td>24894</td>\n",
       "      <td>50.0</td>\n",
       "      <td>3/30/2011</td>\n",
       "      <td>District Council</td>\n",
       "      <td>654</td>\n",
       "      <td>Handeni Trunk Main(</td>\n",
       "      <td>38.186842</td>\n",
       "      <td>-5.577446</td>\n",
       "      <td>Kwedibilika</td>\n",
       "      <td>4</td>\n",
       "      <td>...</td>\n",
       "      <td>soft</td>\n",
       "      <td>good</td>\n",
       "      <td>enough</td>\n",
       "      <td>enough</td>\n",
       "      <td>river</td>\n",
       "      <td>river/lake</td>\n",
       "      <td>surface</td>\n",
       "      <td>communal standpipe</td>\n",
       "      <td>communal standpipe</td>\n",
       "      <td>non functional</td>\n",
       "    </tr>\n",
       "    <tr>\n",
       "      <th>58974</th>\n",
       "      <td>59650</td>\n",
       "      <td>0.0</td>\n",
       "      <td>2/25/2011</td>\n",
       "      <td>Iran Gover</td>\n",
       "      <td>117</td>\n",
       "      <td>IRAN GOVERN</td>\n",
       "      <td>38.866455</td>\n",
       "      <td>-6.822525</td>\n",
       "      <td>Rafsanjan Shuleni</td>\n",
       "      <td>120</td>\n",
       "      <td>...</td>\n",
       "      <td>soft</td>\n",
       "      <td>good</td>\n",
       "      <td>insufficient</td>\n",
       "      <td>insufficient</td>\n",
       "      <td>river</td>\n",
       "      <td>river/lake</td>\n",
       "      <td>surface</td>\n",
       "      <td>hand pump</td>\n",
       "      <td>hand pump</td>\n",
       "      <td>non functional</td>\n",
       "    </tr>\n",
       "    <tr>\n",
       "      <th>59045</th>\n",
       "      <td>72611</td>\n",
       "      <td>0.0</td>\n",
       "      <td>3/11/2011</td>\n",
       "      <td>District Council</td>\n",
       "      <td>2</td>\n",
       "      <td>DWE</td>\n",
       "      <td>38.881740</td>\n",
       "      <td>-5.627174</td>\n",
       "      <td>Kwamkwayu</td>\n",
       "      <td>34</td>\n",
       "      <td>...</td>\n",
       "      <td>salty</td>\n",
       "      <td>salty</td>\n",
       "      <td>enough</td>\n",
       "      <td>enough</td>\n",
       "      <td>machine dbh</td>\n",
       "      <td>borehole</td>\n",
       "      <td>groundwater</td>\n",
       "      <td>communal standpipe multiple</td>\n",
       "      <td>communal standpipe</td>\n",
       "      <td>non functional</td>\n",
       "    </tr>\n",
       "    <tr>\n",
       "      <th>59125</th>\n",
       "      <td>34700</td>\n",
       "      <td>20.0</td>\n",
       "      <td>3/11/2011</td>\n",
       "      <td>District Council</td>\n",
       "      <td>22</td>\n",
       "      <td>DWE</td>\n",
       "      <td>38.888122</td>\n",
       "      <td>-5.613448</td>\n",
       "      <td>Kwa Fundi Abu</td>\n",
       "      <td>41</td>\n",
       "      <td>...</td>\n",
       "      <td>salty</td>\n",
       "      <td>salty</td>\n",
       "      <td>enough</td>\n",
       "      <td>enough</td>\n",
       "      <td>machine dbh</td>\n",
       "      <td>borehole</td>\n",
       "      <td>groundwater</td>\n",
       "      <td>communal standpipe multiple</td>\n",
       "      <td>communal standpipe</td>\n",
       "      <td>functional</td>\n",
       "    </tr>\n",
       "  </tbody>\n",
       "</table>\n",
       "<p>757 rows × 41 columns</p>\n",
       "</div>"
      ],
      "text/plain": [
       "          id  amount_tsh date_recorded            funder  gps_height  \\\n",
       "469    43604         0.0     3/23/2011             Unhcr         288   \n",
       "476    27523        20.0     2/24/2011           Private         -32   \n",
       "519    72238         0.0     3/13/2011             Tardo        1794   \n",
       "527    26851         0.0     3/20/2011            Sabemo        1665   \n",
       "608    71658         0.0     3/25/2011  District Council         289   \n",
       "...      ...         ...           ...               ...         ...   \n",
       "58924  10750         0.0     3/20/2011            Sabemo        1824   \n",
       "58943  24894        50.0     3/30/2011  District Council         654   \n",
       "58974  59650         0.0     2/25/2011        Iran Gover         117   \n",
       "59045  72611         0.0     3/11/2011  District Council           2   \n",
       "59125  34700        20.0     3/11/2011  District Council          22   \n",
       "\n",
       "                 installer  longitude  latitude           wpt_name  \\\n",
       "469                 REDESO  38.517002 -5.591650      Kwa Mazenyeko   \n",
       "476                  Priva  38.979944 -7.954320            Kiambwe   \n",
       "519                  Tardo  38.245052 -4.661949    Kwa Mzee Hamisi   \n",
       "527              Chamavita  38.345578 -4.749421       Kwa Mzee Sau   \n",
       "608    Handeni Trunk Main(  38.545166 -5.257279       Kwa Samakudu   \n",
       "...                    ...        ...       ...                ...   \n",
       "58924            Chamavita  38.334293 -4.746389             Kwesim   \n",
       "58943  Handeni Trunk Main(  38.186842 -5.577446        Kwedibilika   \n",
       "58974          IRAN GOVERN  38.866455 -6.822525  Rafsanjan Shuleni   \n",
       "59045                  DWE  38.881740 -5.627174          Kwamkwayu   \n",
       "59125                  DWE  38.888122 -5.613448      Kwa Fundi Abu   \n",
       "\n",
       "       num_private  ... water_quality quality_group      quantity  \\\n",
       "469             39  ...         salty         salty  insufficient   \n",
       "476              5  ...          soft          good        enough   \n",
       "519             45  ...          soft          good        enough   \n",
       "527              6  ...          soft          good        enough   \n",
       "608              3  ...          soft          good        enough   \n",
       "...            ...  ...           ...           ...           ...   \n",
       "58924            6  ...          soft          good        enough   \n",
       "58943            4  ...          soft          good        enough   \n",
       "58974          120  ...          soft          good  insufficient   \n",
       "59045           34  ...         salty         salty        enough   \n",
       "59125           41  ...         salty         salty        enough   \n",
       "\n",
       "       quantity_group        source   source_type source_class  \\\n",
       "469      insufficient  shallow well  shallow well  groundwater   \n",
       "476            enough   machine dbh      borehole  groundwater   \n",
       "519            enough        spring        spring  groundwater   \n",
       "527            enough        spring        spring  groundwater   \n",
       "608            enough         river    river/lake      surface   \n",
       "...               ...           ...           ...          ...   \n",
       "58924          enough        spring        spring  groundwater   \n",
       "58943          enough         river    river/lake      surface   \n",
       "58974    insufficient         river    river/lake      surface   \n",
       "59045          enough   machine dbh      borehole  groundwater   \n",
       "59125          enough   machine dbh      borehole  groundwater   \n",
       "\n",
       "                   waterpoint_type waterpoint_type_group    status_group  \n",
       "469                      hand pump             hand pump  non functional  \n",
       "476             communal standpipe    communal standpipe      functional  \n",
       "519             communal standpipe    communal standpipe      functional  \n",
       "527             communal standpipe    communal standpipe      functional  \n",
       "608             communal standpipe    communal standpipe  non functional  \n",
       "...                            ...                   ...             ...  \n",
       "58924           communal standpipe    communal standpipe      functional  \n",
       "58943           communal standpipe    communal standpipe  non functional  \n",
       "58974                    hand pump             hand pump  non functional  \n",
       "59045  communal standpipe multiple    communal standpipe  non functional  \n",
       "59125  communal standpipe multiple    communal standpipe      functional  \n",
       "\n",
       "[757 rows x 41 columns]"
      ]
     },
     "execution_count": 5,
     "metadata": {},
     "output_type": "execute_result"
    }
   ],
   "source": [
    "train[train['num_private']>0]"
   ]
  },
  {
   "cell_type": "code",
   "execution_count": 6,
   "metadata": {},
   "outputs": [
    {
     "data": {
      "text/html": [
       "<div>\n",
       "<style scoped>\n",
       "    .dataframe tbody tr th:only-of-type {\n",
       "        vertical-align: middle;\n",
       "    }\n",
       "\n",
       "    .dataframe tbody tr th {\n",
       "        vertical-align: top;\n",
       "    }\n",
       "\n",
       "    .dataframe thead th {\n",
       "        text-align: right;\n",
       "    }\n",
       "</style>\n",
       "<table border=\"1\" class=\"dataframe\">\n",
       "  <thead>\n",
       "    <tr style=\"text-align: right;\">\n",
       "      <th></th>\n",
       "      <th>id</th>\n",
       "      <th>amount_tsh</th>\n",
       "      <th>gps_height</th>\n",
       "      <th>longitude</th>\n",
       "      <th>latitude</th>\n",
       "      <th>num_private</th>\n",
       "      <th>region_code</th>\n",
       "      <th>district_code</th>\n",
       "      <th>population</th>\n",
       "      <th>construction_year</th>\n",
       "    </tr>\n",
       "  </thead>\n",
       "  <tbody>\n",
       "    <tr>\n",
       "      <th>count</th>\n",
       "      <td>59400.000000</td>\n",
       "      <td>59400.000000</td>\n",
       "      <td>59400.000000</td>\n",
       "      <td>59400.000000</td>\n",
       "      <td>5.940000e+04</td>\n",
       "      <td>59400.000000</td>\n",
       "      <td>59400.000000</td>\n",
       "      <td>59400.000000</td>\n",
       "      <td>59400.000000</td>\n",
       "      <td>59400.000000</td>\n",
       "    </tr>\n",
       "    <tr>\n",
       "      <th>mean</th>\n",
       "      <td>37115.131768</td>\n",
       "      <td>317.650385</td>\n",
       "      <td>668.297239</td>\n",
       "      <td>34.077427</td>\n",
       "      <td>-5.706033e+00</td>\n",
       "      <td>0.474141</td>\n",
       "      <td>15.297003</td>\n",
       "      <td>5.629747</td>\n",
       "      <td>179.909983</td>\n",
       "      <td>1300.652475</td>\n",
       "    </tr>\n",
       "    <tr>\n",
       "      <th>std</th>\n",
       "      <td>21453.128371</td>\n",
       "      <td>2997.574558</td>\n",
       "      <td>693.116350</td>\n",
       "      <td>6.567432</td>\n",
       "      <td>2.946019e+00</td>\n",
       "      <td>12.236230</td>\n",
       "      <td>17.587406</td>\n",
       "      <td>9.633649</td>\n",
       "      <td>471.482176</td>\n",
       "      <td>951.620547</td>\n",
       "    </tr>\n",
       "    <tr>\n",
       "      <th>min</th>\n",
       "      <td>0.000000</td>\n",
       "      <td>0.000000</td>\n",
       "      <td>-90.000000</td>\n",
       "      <td>0.000000</td>\n",
       "      <td>-1.164944e+01</td>\n",
       "      <td>0.000000</td>\n",
       "      <td>1.000000</td>\n",
       "      <td>0.000000</td>\n",
       "      <td>0.000000</td>\n",
       "      <td>0.000000</td>\n",
       "    </tr>\n",
       "    <tr>\n",
       "      <th>25%</th>\n",
       "      <td>18519.750000</td>\n",
       "      <td>0.000000</td>\n",
       "      <td>0.000000</td>\n",
       "      <td>33.090347</td>\n",
       "      <td>-8.540621e+00</td>\n",
       "      <td>0.000000</td>\n",
       "      <td>5.000000</td>\n",
       "      <td>2.000000</td>\n",
       "      <td>0.000000</td>\n",
       "      <td>0.000000</td>\n",
       "    </tr>\n",
       "    <tr>\n",
       "      <th>50%</th>\n",
       "      <td>37061.500000</td>\n",
       "      <td>0.000000</td>\n",
       "      <td>369.000000</td>\n",
       "      <td>34.908743</td>\n",
       "      <td>-5.021597e+00</td>\n",
       "      <td>0.000000</td>\n",
       "      <td>12.000000</td>\n",
       "      <td>3.000000</td>\n",
       "      <td>25.000000</td>\n",
       "      <td>1986.000000</td>\n",
       "    </tr>\n",
       "    <tr>\n",
       "      <th>75%</th>\n",
       "      <td>55656.500000</td>\n",
       "      <td>20.000000</td>\n",
       "      <td>1319.250000</td>\n",
       "      <td>37.178387</td>\n",
       "      <td>-3.326156e+00</td>\n",
       "      <td>0.000000</td>\n",
       "      <td>17.000000</td>\n",
       "      <td>5.000000</td>\n",
       "      <td>215.000000</td>\n",
       "      <td>2004.000000</td>\n",
       "    </tr>\n",
       "    <tr>\n",
       "      <th>max</th>\n",
       "      <td>74247.000000</td>\n",
       "      <td>350000.000000</td>\n",
       "      <td>2770.000000</td>\n",
       "      <td>40.345193</td>\n",
       "      <td>-2.000000e-08</td>\n",
       "      <td>1776.000000</td>\n",
       "      <td>99.000000</td>\n",
       "      <td>80.000000</td>\n",
       "      <td>30500.000000</td>\n",
       "      <td>2013.000000</td>\n",
       "    </tr>\n",
       "  </tbody>\n",
       "</table>\n",
       "</div>"
      ],
      "text/plain": [
       "                 id     amount_tsh    gps_height     longitude      latitude  \\\n",
       "count  59400.000000   59400.000000  59400.000000  59400.000000  5.940000e+04   \n",
       "mean   37115.131768     317.650385    668.297239     34.077427 -5.706033e+00   \n",
       "std    21453.128371    2997.574558    693.116350      6.567432  2.946019e+00   \n",
       "min        0.000000       0.000000    -90.000000      0.000000 -1.164944e+01   \n",
       "25%    18519.750000       0.000000      0.000000     33.090347 -8.540621e+00   \n",
       "50%    37061.500000       0.000000    369.000000     34.908743 -5.021597e+00   \n",
       "75%    55656.500000      20.000000   1319.250000     37.178387 -3.326156e+00   \n",
       "max    74247.000000  350000.000000   2770.000000     40.345193 -2.000000e-08   \n",
       "\n",
       "        num_private   region_code  district_code    population  \\\n",
       "count  59400.000000  59400.000000   59400.000000  59400.000000   \n",
       "mean       0.474141     15.297003       5.629747    179.909983   \n",
       "std       12.236230     17.587406       9.633649    471.482176   \n",
       "min        0.000000      1.000000       0.000000      0.000000   \n",
       "25%        0.000000      5.000000       2.000000      0.000000   \n",
       "50%        0.000000     12.000000       3.000000     25.000000   \n",
       "75%        0.000000     17.000000       5.000000    215.000000   \n",
       "max     1776.000000     99.000000      80.000000  30500.000000   \n",
       "\n",
       "       construction_year  \n",
       "count       59400.000000  \n",
       "mean         1300.652475  \n",
       "std           951.620547  \n",
       "min             0.000000  \n",
       "25%             0.000000  \n",
       "50%          1986.000000  \n",
       "75%          2004.000000  \n",
       "max          2013.000000  "
      ]
     },
     "execution_count": 6,
     "metadata": {},
     "output_type": "execute_result"
    }
   ],
   "source": [
    "train.describe()"
   ]
  },
  {
   "cell_type": "markdown",
   "metadata": {},
   "source": [
    "- maybe necessary to remove construction year."
   ]
  },
  {
   "cell_type": "code",
   "execution_count": 7,
   "metadata": {},
   "outputs": [
    {
     "name": "stderr",
     "output_type": "stream",
     "text": [
      "C:\\Users\\ADMIN\\AppData\\Local\\Temp\\ipykernel_1004\\3976356785.py:1: FutureWarning: Dropping of nuisance columns in DataFrame reductions (with 'numeric_only=None') is deprecated; in a future version this will raise TypeError.  Select only valid columns before calling the reduction.\n",
      "  skew = train.skew()\n"
     ]
    }
   ],
   "source": [
    "skew = train.skew()\n",
    "list_log_transform = skew[abs(skew)>2].index"
   ]
  },
  {
   "cell_type": "markdown",
   "metadata": {},
   "source": [
    "### The categorical feature."
   ]
  },
  {
   "cell_type": "markdown",
   "metadata": {},
   "source": [
    "- num_private feature seems messed up. (small variance, large outliers.) => highly skewed.\n",
    "- construction_year have year 0 => messed up values. \n",
    "- gps_height, longitude, latitude have negative values. \n",
    "- population, gps_height, amount_tsh seems skewed.\n",
    "- region_code, district_code should be categorical variables.\n",
    "- construction_year should be datetime."
   ]
  },
  {
   "cell_type": "markdown",
   "metadata": {},
   "source": [
    "### The numerical feature."
   ]
  },
  {
   "cell_type": "markdown",
   "metadata": {},
   "source": [
    "- Fixing up 'Unknown' and 'Other' values. If unknown then value is nan. If other then value is ticked. \n",
    "- If the value is selected then the rows contain that value will remain the same. Null values will stay the same as well. Non-chosen values are converted into 'other'\n",
    "- Choosing the number of values to be onehot-encoded (require that not making the dataset imbalanced)\n",
    "- Onehot-encode them. \n",
    "- Fixing outliers."
   ]
  },
  {
   "cell_type": "code",
   "execution_count": 8,
   "metadata": {},
   "outputs": [
    {
     "data": {
      "text/plain": [
       "<AxesSubplot:ylabel='population'>"
      ]
     },
     "execution_count": 8,
     "metadata": {},
     "output_type": "execute_result"
    },
    {
     "data": {
      "image/png": "[encoded data removed]",
      "text/plain": [
       "<Figure size 432x288 with 1 Axes>"
      ]
     },
     "metadata": {
      "needs_background": "light"
     },
     "output_type": "display_data"
    }
   ],
   "source": [
    "sns.boxplot(y=train['population'])"
   ]
  },
  {
   "cell_type": "markdown",
   "metadata": {},
   "source": [
    "we should drop some serious outliers."
   ]
  },
  {
   "cell_type": "code",
   "execution_count": 9,
   "metadata": {},
   "outputs": [
    {
     "name": "stdout",
     "output_type": "stream",
     "text": [
      "21381\n"
     ]
    },
    {
     "data": {
      "image/png": "[encoded data removed]",
      "text/plain": [
       "<Figure size 360x360 with 1 Axes>"
      ]
     },
     "metadata": {
      "needs_background": "light"
     },
     "output_type": "display_data"
    }
   ],
   "source": [
    "print((train['population'] == 0).sum())\n",
    "sns.displot(train['population'])\n",
    "plt.show()"
   ]
  },
  {
   "cell_type": "code",
   "execution_count": 10,
   "metadata": {},
   "outputs": [
    {
     "data": {
      "text/plain": [
       "array([680.])"
      ]
     },
     "execution_count": 10,
     "metadata": {},
     "output_type": "execute_result"
    }
   ],
   "source": [
    "np.quantile(train['population'],[0.95])"
   ]
  },
  {
   "cell_type": "markdown",
   "metadata": {},
   "source": [
    "- There are too many 0 values with this field.\n",
    "- There are definitely outliers that need to be cleaned (values > q95,q90 need to be cleaned)"
   ]
  },
  {
   "cell_type": "code",
   "execution_count": 11,
   "metadata": {},
   "outputs": [
    {
     "name": "stdout",
     "output_type": "stream",
     "text": [
      "[40]\n"
     ]
    }
   ],
   "source": [
    "unique_train = train['region_code'].value_counts().index.sort_values(ascending=False)\n",
    "unique_test = test['region_code'].value_counts().index.sort_values(ascending=False)\n",
    "f = []\n",
    "for i in unique_train:\n",
    "    if i not in unique_test:\n",
    "        f.append(i)\n",
    "print(f)        "
   ]
  },
  {
   "cell_type": "markdown",
   "metadata": {},
   "source": [
    "- There aren't many region_code that test set has but training set doesn't.\n",
    "- Try: \n",
    "    - Leave it as numerical.\n",
    "    - Transform it into number of values count in the dataset. => the popularity of the value in the dataset.\n",
    "    - Transform all values that the training set haven't seen into 0. (recommended)"
   ]
  },
  {
   "cell_type": "code",
   "execution_count": 12,
   "metadata": {},
   "outputs": [
    {
     "name": "stdout",
     "output_type": "stream",
     "text": [
      "[]\n"
     ]
    }
   ],
   "source": [
    "unique_train = train['district_code'].value_counts().index\n",
    "unique_test = test['district_code'].value_counts().index\n",
    "f = []\n",
    "for i in unique_train:\n",
    "    if i not in unique_test:\n",
    "        f.append(i)\n",
    "print(f) "
   ]
  },
  {
   "cell_type": "markdown",
   "metadata": {},
   "source": [
    "- No values of district code that available in the test set but isnt available in the training set. "
   ]
  },
  {
   "cell_type": "code",
   "execution_count": 13,
   "metadata": {},
   "outputs": [
    {
     "name": "stdout",
     "output_type": "stream",
     "text": [
      "20438\n"
     ]
    },
    {
     "name": "stderr",
     "output_type": "stream",
     "text": [
      "c:\\Users\\ADMIN\\anaconda3\\lib\\site-packages\\seaborn\\distributions.py:2619: FutureWarning: `distplot` is a deprecated function and will be removed in a future version. Please adapt your code to use either `displot` (a figure-level function with similar flexibility) or `histplot` (an axes-level function for histograms).\n",
      "  warnings.warn(msg, FutureWarning)\n"
     ]
    },
    {
     "data": {
      "text/plain": [
       "<AxesSubplot:xlabel='gps_height', ylabel='Density'>"
      ]
     },
     "execution_count": 13,
     "metadata": {},
     "output_type": "execute_result"
    },
    {
     "data": {
      "image/png": "[encoded data removed]",
      "text/plain": [
       "<Figure size 432x288 with 1 Axes>"
      ]
     },
     "metadata": {
      "needs_background": "light"
     },
     "output_type": "display_data"
    }
   ],
   "source": [
    "print((train['gps_height'] == 0 ).sum())\n",
    "sns.distplot(train['gps_height'])"
   ]
  },
  {
   "cell_type": "markdown",
   "metadata": {},
   "source": [
    "- There are also a lot of 0 values. Do not know whether this is common or it represents null values."
   ]
  },
  {
   "cell_type": "code",
   "execution_count": 14,
   "metadata": {},
   "outputs": [
    {
     "name": "stdout",
     "output_type": "stream",
     "text": [
      "41639\n"
     ]
    },
    {
     "name": "stderr",
     "output_type": "stream",
     "text": [
      "c:\\Users\\ADMIN\\anaconda3\\lib\\site-packages\\seaborn\\distributions.py:2619: FutureWarning: `distplot` is a deprecated function and will be removed in a future version. Please adapt your code to use either `displot` (a figure-level function with similar flexibility) or `histplot` (an axes-level function for histograms).\n",
      "  warnings.warn(msg, FutureWarning)\n"
     ]
    },
    {
     "data": {
      "text/plain": [
       "<AxesSubplot:xlabel='amount_tsh', ylabel='Density'>"
      ]
     },
     "execution_count": 14,
     "metadata": {},
     "output_type": "execute_result"
    },
    {
     "data": {
      "image/png": "[encoded data removed]",
      "text/plain": [
       "<Figure size 432x288 with 1 Axes>"
      ]
     },
     "metadata": {
      "needs_background": "light"
     },
     "output_type": "display_data"
    }
   ],
   "source": [
    "print((train['amount_tsh'] == 0 ).sum())\n",
    "sns.distplot(train['amount_tsh'])"
   ]
  },
  {
   "cell_type": "markdown",
   "metadata": {},
   "source": [
    "- This feature should be binned or otherwise dropped since it is way too skewed, and it has too many 0 values."
   ]
  },
  {
   "cell_type": "markdown",
   "metadata": {},
   "source": [
    "- num_private has too many 0 values, should be dropped because it has too little variance."
   ]
  },
  {
   "cell_type": "code",
   "execution_count": 15,
   "metadata": {},
   "outputs": [
    {
     "data": {
      "text/plain": [
       "date_recorded                0\n",
       "funder                    3635\n",
       "installer                 3655\n",
       "wpt_name                     0\n",
       "basin                        0\n",
       "subvillage                 371\n",
       "region                       0\n",
       "lga                          0\n",
       "ward                         0\n",
       "public_meeting            3334\n",
       "recorded_by                  0\n",
       "scheme_management         3877\n",
       "scheme_name              28166\n",
       "permit                    3056\n",
       "extraction_type              0\n",
       "extraction_type_group        0\n",
       "extraction_type_class        0\n",
       "management                   0\n",
       "management_group             0\n",
       "payment                      0\n",
       "payment_type                 0\n",
       "water_quality                0\n",
       "quality_group                0\n",
       "quantity                     0\n",
       "quantity_group               0\n",
       "source                       0\n",
       "source_type                  0\n",
       "source_class                 0\n",
       "waterpoint_type              0\n",
       "waterpoint_type_group        0\n",
       "status_group                 0\n",
       "dtype: int64"
      ]
     },
     "execution_count": 15,
     "metadata": {},
     "output_type": "execute_result"
    }
   ],
   "source": [
    "train.select_dtypes(include='object').isna().sum()"
   ]
  },
  {
   "cell_type": "markdown",
   "metadata": {},
   "source": [
    "- There are a lot of 0 values in this column. It might suggests that the data has some systematic error, or they simply are null. => We should either drop 0 values, or drop this year column."
   ]
  },
  {
   "cell_type": "markdown",
   "metadata": {},
   "source": [
    "### CHECK FOR ERRORS, OVERLAPPING VALUES IN THESE MULTI-VALUE COLUMNS."
   ]
  },
  {
   "cell_type": "code",
   "execution_count": 16,
   "metadata": {},
   "outputs": [
    {
     "data": {
      "text/plain": [
       "none               3563\n",
       "Shuleni            1748\n",
       "Zahanati            830\n",
       "Msikitini           535\n",
       "Kanisani            323\n",
       "Bombani             271\n",
       "Sokoni              260\n",
       "Ofisini             254\n",
       "School              208\n",
       "Shule Ya Msingi     199\n",
       "Shule               152\n",
       "Sekondari           146\n",
       "Muungano            133\n",
       "Mkombozi            111\n",
       "Madukani            104\n",
       "Mbugani              94\n",
       "Hospital             94\n",
       "Upendo               93\n",
       "Kituo Cha Afya       90\n",
       "Mkuyuni              88\n",
       "Umoja                84\n",
       "Center               83\n",
       "Ccm                  81\n",
       "Kisimani             78\n",
       "Ofisi Ya Kijiji      76\n",
       "Mtakuja              76\n",
       "Tankini              73\n",
       "Bwawani              66\n",
       "Songambele           66\n",
       "Maendeleo            64\n",
       "Name: wpt_name, dtype: int64"
      ]
     },
     "execution_count": 16,
     "metadata": {},
     "output_type": "execute_result"
    }
   ],
   "source": [
    "train['wpt_name'].value_counts().sort_values(ascending=False).head(30)"
   ]
  },
  {
   "cell_type": "markdown",
   "metadata": {},
   "source": [
    "- Installer has many values that im not certain about its validity. (Wrong spelling, nonsense values,..)\n",
    "- Subvillage has many village that was divided into smaller scale. Whats weired is that it is in the same region but different subvillage.\n",
    "    - Does subvillage and region affect status code? \n",
    "- Construction year has year 0 => remove.\n",
    "- management and management_group has 'other' value.\n",
    "- management has value 'other_school' and 'school'.\n",
    "- 3 extraction cols has value unknown.\n",
    "- payment, payment_type has both unknown and other.\n",
    "- water_quality, quality,quantity,quantity_group,source,source_class has value 'unknown'\n"
   ]
  },
  {
   "cell_type": "code",
   "execution_count": 17,
   "metadata": {},
   "outputs": [
    {
     "data": {
      "text/plain": [
       "Madukani        508\n",
       "Shuleni         506\n",
       "Majengo         502\n",
       "Kati            373\n",
       "Mtakuja         262\n",
       "               ... \n",
       "Mwamazengo        1\n",
       "Bitati            1\n",
       "Kidimba           1\n",
       "Kidokwe           1\n",
       "Kikatanyemba      1\n",
       "Name: subvillage, Length: 19287, dtype: int64"
      ]
     },
     "execution_count": 17,
     "metadata": {},
     "output_type": "execute_result"
    }
   ],
   "source": [
    "train['subvillage'].value_counts().sort_values(ascending=False)"
   ]
  },
  {
   "cell_type": "code",
   "execution_count": 18,
   "metadata": {},
   "outputs": [
    {
     "data": {
      "text/plain": [
       "Index(['none', 'Shuleni', 'Zahanati', 'Msikitini', 'Kanisani', 'Bombani',\n",
       "       'Sokoni', 'Ofisini', 'School', 'Shule Ya Msingi',\n",
       "       ...\n",
       "       'Kwa Mzee Daniel Chilubi', 'Kwa Msosa Kalanje', 'Kwa Milanzi',\n",
       "       'Kwa Kwimila', 'Ponjolo', 'Kwa Medadi', 'Kwa Kubembeni',\n",
       "       'Shule Ya Msingi Milanzi', 'Funua', 'Kwa Mzee Lugawa'],\n",
       "      dtype='object', length=37400)"
      ]
     },
     "execution_count": 18,
     "metadata": {},
     "output_type": "execute_result"
    }
   ],
   "source": [
    "train['wpt_name'].value_counts().index"
   ]
  },
  {
   "cell_type": "markdown",
   "metadata": {},
   "source": [
    "- Way too many values for modelling => Solution:\n",
    "    - A dominant feature and non dominant feature.\n",
    "    - Count of value in the dataset.\n"
   ]
  },
  {
   "cell_type": "markdown",
   "metadata": {},
   "source": [
    "- source and source type is like payment and payment_type. (half of them equal)\n",
    "- waterpoint_type and waterpoint_type_group is similar. (almost equal)\n",
    "- payment and payment type is so similar. Could be just extension of one another.(half of them equal)\n",
    "- water_quality and quality_group is so similar. Could be just extension of one another.(these columns does not equal)\n",
    "- quantity and quantity_group is so similar. Could be just extension of one another. (these columns equal, delete one.)\n",
    "- management and scheme_management is similar. (almost equal)\n",
    "- extraction_type, extraction_type_group, extraction_type_class has similar unique values.(half equal)"
   ]
  },
  {
   "cell_type": "markdown",
   "metadata": {},
   "source": [
    "- There are many duplicated values in these 2 features. Maybe one hot unique values of the 2 then count number of appearance among these 2 as values for each columns.\n",
    "- If there's a difference between the 2, create new features as identifiers."
   ]
  },
  {
   "cell_type": "markdown",
   "metadata": {},
   "source": [
    "- payment has NaN value called 'unknown'\n",
    "- wpt_name has NaN value called'none' value."
   ]
  },
  {
   "cell_type": "markdown",
   "metadata": {},
   "source": [
    "- scheme_management should be converted to lowercase."
   ]
  },
  {
   "cell_type": "markdown",
   "metadata": {},
   "source": [
    "- We can convert all 'other-...' values into 'other'\n",
    "- We can combine all unique values of these 3 fields into one hot coding => then count the number of features among the 3 that have the value. "
   ]
  },
  {
   "cell_type": "markdown",
   "metadata": {},
   "source": [
    "- recorded_by only have 1 value => drop"
   ]
  },
  {
   "cell_type": "markdown",
   "metadata": {},
   "source": [
    "- Drop scheme_name because too many null values.\n",
    "- Other features have less than 10% null values so we should be able to impute properly."
   ]
  },
  {
   "cell_type": "code",
   "execution_count": 19,
   "metadata": {},
   "outputs": [
    {
     "name": "stdout",
     "output_type": "stream",
     "text": [
      "88\n",
      "['borehole', 'dam', 'hand dtw', 'lake', 'machine dbh', 'other', 'rainwater harvesting', 'river', 'river/lake', 'shallow well', 'spring', 'unknown', 'annually', 'monthly', 'never pay', 'on failure', 'other', 'pay annually', 'pay monthly', 'pay per bucket', 'pay when scheme fails', 'per bucket', 'unknown', 'afridev', 'cemo', 'climax', 'gravity', 'handpump', 'india mark ii', 'india mark iii', 'ksb', 'mono', 'motorpump', 'nira/tanira', 'other', 'other - mkulima/shinyanga', 'other - play pump', 'other - rope pump', 'other - swn 81', 'other handpump', 'other motorpump', 'rope pump', 'submersible', 'swn 80', 'walimi', 'wind-powered', 'windmill']\n"
     ]
    }
   ],
   "source": [
    "def one_hot_multi_cols(train,test,cols):\n",
    "\n",
    "    list_unique = np.unique(np.reshape(train[cols].values,-1))\n",
    "    train_l = []\n",
    "    test_l = []\n",
    "    for col in cols:\n",
    "        train_k = []\n",
    "        test_k = []\n",
    "        for i in list_unique:\n",
    "            train_k.append(train.apply(lambda x:1 if x[col] == i else 0, axis=1))\n",
    "            test_k.append(test.apply(lambda x:1 if x[col] == i else 0, axis=1))\n",
    "        train_l.append(train_k)\n",
    "        test_l.append(test_k)\n",
    "    train_l = (np.sum(np.array(train_l),axis=0))\n",
    "    train_l = train_l.reshape((np.array(train_l).shape[1],np.array(train_l).shape[0]))\n",
    "    l_train_pd = pd.DataFrame(train_l,columns=list_unique)\n",
    "    train = pd.concat([train,l_train_pd],axis=1)\n",
    "    \n",
    "    test_l = (np.sum(np.array(test_l),axis=0))\n",
    "    test_l = test_l.reshape((np.array(test_l).shape[1],np.array(test_l).shape[0]))\n",
    "    l_test_pd = pd.DataFrame(test_l,columns=list_unique)\n",
    "    test = pd.concat([test,l_test_pd],axis=1)\n",
    "    return train,test\n",
    "\n",
    "list_cols_onehot = [['source','source_type'],['payment','payment_type'],['extraction_type', \"extraction_type_group\", 'extraction_type_class']]\n",
    "len_list = 0\n",
    "unique_vals = []\n",
    "for i in list_cols_onehot:\n",
    "    no_list = np.unique(np.reshape(train[i].values,-1))\n",
    "    len_list = len_list + len(no_list)\n",
    "    unique_vals.extend(no_list)\n",
    "print(len_list+train.shape[1])\n",
    "print(unique_vals)"
   ]
  },
  {
   "cell_type": "code",
   "execution_count": 20,
   "metadata": {},
   "outputs": [
    {
     "name": "stdout",
     "output_type": "stream",
     "text": [
      "(59400, 34)\n",
      "(14850, 33)\n"
     ]
    }
   ],
   "source": [
    "train_engineered = train.copy()\n",
    "test_engineered = test.copy()\n",
    "\n",
    "num_features = train_engineered.select_dtypes(include=['float64','int64']).columns\n",
    "cat_features = train_engineered.select_dtypes(include=['object'])\n",
    "\n",
    "#drop outliers on the training set.\n",
    "# train_engineered = train_engineered.drop(train[train['amount_tsh']>250000].index,axis=0)\n",
    "# train_engineered = train_engineered.drop(train[train['population']>15000].index,axis=0)\n",
    "\n",
    "#all features to their correct types.\n",
    "train_engineered['date_recorded'] = pd.to_datetime(train_engineered['date_recorded'])\n",
    "test_engineered['date_recorded'] = pd.to_datetime(test_engineered['date_recorded'])\n",
    "train_engineered['public_meeting'] = train_engineered['public_meeting'].astype(bool)\n",
    "test_engineered['public_meeting'] = test_engineered['public_meeting'].astype(bool)\n",
    "\n",
    "#drop low variance features.\n",
    "train_engineered = train_engineered.drop(['recorded_by'],axis=1)\n",
    "test_engineered = test_engineered.drop(['recorded_by'],axis=1)\n",
    "\n",
    "#drop columns with high NaN values ratio.\n",
    "train_engineered = train_engineered.drop(['scheme_name','construction_year','num_private'],axis=1)\n",
    "test_engineered = test_engineered.drop(['scheme_name','construction_year','num_private'],axis=1)\n",
    "\n",
    "\n",
    "#deleting identical/almost identical columns\n",
    "train_engineered = train_engineered.drop(['quantity_group','scheme_management','waterpoint_type_group'],axis=1)\n",
    "test_engineered = test_engineered.drop(['quantity_group','scheme_management','waterpoint_type_group'],axis=1)\n",
    "\n",
    "print(train_engineered.shape)\n",
    "print(test_engineered.shape)"
   ]
  },
  {
   "cell_type": "markdown",
   "metadata": {},
   "source": [
    "### Before onehot coding, use imputation.\n",
    "### Sklearn one hot coding also "
   ]
  },
  {
   "cell_type": "markdown",
   "metadata": {},
   "source": [
    "### Converting NaN values into NaN\n"
   ]
  },
  {
   "cell_type": "code",
   "execution_count": 21,
   "metadata": {},
   "outputs": [],
   "source": [
    "train_engineered['funder'] = train_engineered['funder'].replace({'0':np.NaN})\n",
    "train_engineered['installer'] = train_engineered['installer'].replace({'0':np.NaN,'-':np.NaN})\n",
    "train_engineered['wpt_name'] = train_engineered['wpt_name'].replace({'none':np.NaN})\n",
    "train_engineered['subvillage'] = train_engineered['subvillage'].replace({'none':np.NaN})\n",
    "train_engineered['water_quality'] = train_engineered['water_quality'].replace({'unknown':np.NaN})\n",
    "train_engineered['quality_group'] = train_engineered['quality_group'].replace({'unknown':np.NaN})\n",
    "train_engineered['quantity'] = train_engineered['quantity'].replace({'unknown':np.NaN})\n",
    "train_engineered['source_class'] = train_engineered['source_class'].replace({'unknown':np.NaN})"
   ]
  },
  {
   "cell_type": "markdown",
   "metadata": {},
   "source": [
    "### Imputing values into NaN values."
   ]
  },
  {
   "cell_type": "markdown",
   "metadata": {},
   "source": [
    "### One hot all categorical features using sklearn"
   ]
  },
  {
   "cell_type": "code",
   "execution_count": 22,
   "metadata": {},
   "outputs": [
    {
     "data": {
      "text/plain": [
       "(14850, 23505)"
      ]
     },
     "execution_count": 22,
     "metadata": {},
     "output_type": "execute_result"
    }
   ],
   "source": [
    "cols_one_hot = ['funder', 'installer', 'wpt_name', 'subvillage', 'region', 'region_code', 'district_code', 'lga', 'ward', 'water_quality','quality_group', 'quantity', 'waterpoint_type']\n",
    "train_engineered = pd.concat([train_engineered,pd.get_dummies(train_engineered[cols_one_hot])],axis=1)\n",
    "train_engineered = train_engineered.drop(cols_one_hot,axis=1)\n",
    "train_engineered.shape\n",
    "\n",
    "test_engineered = pd.concat([test_engineered,pd.get_dummies(test_engineered[cols_one_hot])],axis=1)\n",
    "test_engineered = test_engineered.drop(cols_one_hot,axis=1)\n",
    "test_engineered.shape"
   ]
  },
  {
   "cell_type": "markdown",
   "metadata": {},
   "source": [
    "Till now, only the cols_one_hot can not have null values."
   ]
  },
  {
   "cell_type": "markdown",
   "metadata": {},
   "source": [
    "### Selecting values of each features that need onehot-coding then usee sklearn. "
   ]
  },
  {
   "cell_type": "code",
   "execution_count": 23,
   "metadata": {},
   "outputs": [
    {
     "ename": "ValueError",
     "evalue": "Length of values (8) does not match length of index (59400)",
     "output_type": "error",
     "traceback": [
      "\u001b[1;31m---------------------------------------------------------------------------\u001b[0m",
      "\u001b[1;31mValueError\u001b[0m                                Traceback (most recent call last)",
      "\u001b[1;32mc:\\Projects\\Pimp It Up\\EDA.ipynb Cell 53\u001b[0m in \u001b[0;36m<cell line: 6>\u001b[1;34m()\u001b[0m\n\u001b[0;32m      <a href='vscode-notebook-cell:/c%3A/Projects/Pimp%20It%20Up/EDA.ipynb#Y103sZmlsZQ%3D%3D?line=2'>3</a>\u001b[0m train_engineered[\u001b[39m'\u001b[39m\u001b[39mpayment\u001b[39m\u001b[39m'\u001b[39m] \u001b[39m=\u001b[39m train_engineered[\u001b[39m'\u001b[39m\u001b[39mpayment\u001b[39m\u001b[39m'\u001b[39m]\u001b[39m.\u001b[39mreplace({\u001b[39m'\u001b[39m\u001b[39munknown\u001b[39m\u001b[39m'\u001b[39m:np\u001b[39m.\u001b[39mNaN})\n\u001b[0;32m      <a href='vscode-notebook-cell:/c%3A/Projects/Pimp%20It%20Up/EDA.ipynb#Y103sZmlsZQ%3D%3D?line=3'>4</a>\u001b[0m train_engineered[\u001b[39m'\u001b[39m\u001b[39mpayment_type\u001b[39m\u001b[39m'\u001b[39m] \u001b[39m=\u001b[39m train_engineered[\u001b[39m'\u001b[39m\u001b[39mpayment_type\u001b[39m\u001b[39m'\u001b[39m]\u001b[39m.\u001b[39mreplace({\u001b[39m'\u001b[39m\u001b[39munknown\u001b[39m\u001b[39m'\u001b[39m:np\u001b[39m.\u001b[39mNaN})\n\u001b[1;32m----> <a href='vscode-notebook-cell:/c%3A/Projects/Pimp%20It%20Up/EDA.ipynb#Y103sZmlsZQ%3D%3D?line=5'>6</a>\u001b[0m train_engineered[\u001b[39m'\u001b[39m\u001b[39msource\u001b[39m\u001b[39m'\u001b[39m] \u001b[39m=\u001b[39m simplyfying_features(\u001b[39m'\u001b[39m\u001b[39msource\u001b[39m\u001b[39m'\u001b[39m,train_engineered,\u001b[39m8\u001b[39m)\n\u001b[0;32m      <a href='vscode-notebook-cell:/c%3A/Projects/Pimp%20It%20Up/EDA.ipynb#Y103sZmlsZQ%3D%3D?line=6'>7</a>\u001b[0m train_engineered[\u001b[39m'\u001b[39m\u001b[39mpayment\u001b[39m\u001b[39m'\u001b[39m] \u001b[39m=\u001b[39m simplyfying_features(\u001b[39m'\u001b[39m\u001b[39mpayment\u001b[39m\u001b[39m'\u001b[39m,train_engineered,\u001b[39m8\u001b[39m)\n\u001b[0;32m      <a href='vscode-notebook-cell:/c%3A/Projects/Pimp%20It%20Up/EDA.ipynb#Y103sZmlsZQ%3D%3D?line=7'>8</a>\u001b[0m train_engineered[\u001b[39m'\u001b[39m\u001b[39mpayment_type\u001b[39m\u001b[39m'\u001b[39m] \u001b[39m=\u001b[39m simplyfying_features(\u001b[39m'\u001b[39m\u001b[39mpayment_type\u001b[39m\u001b[39m'\u001b[39m,train_engineered,\u001b[39m8\u001b[39m)\n",
      "File \u001b[1;32mc:\\Users\\ADMIN\\anaconda3\\lib\\site-packages\\pandas\\core\\frame.py:3655\u001b[0m, in \u001b[0;36mDataFrame.__setitem__\u001b[1;34m(self, key, value)\u001b[0m\n\u001b[0;32m   3652\u001b[0m     \u001b[39mself\u001b[39m\u001b[39m.\u001b[39m_setitem_array([key], value)\n\u001b[0;32m   3653\u001b[0m \u001b[39melse\u001b[39;00m:\n\u001b[0;32m   3654\u001b[0m     \u001b[39m# set column\u001b[39;00m\n\u001b[1;32m-> 3655\u001b[0m     \u001b[39mself\u001b[39;49m\u001b[39m.\u001b[39;49m_set_item(key, value)\n",
      "File \u001b[1;32mc:\\Users\\ADMIN\\anaconda3\\lib\\site-packages\\pandas\\core\\frame.py:3832\u001b[0m, in \u001b[0;36mDataFrame._set_item\u001b[1;34m(self, key, value)\u001b[0m\n\u001b[0;32m   3822\u001b[0m \u001b[39mdef\u001b[39;00m \u001b[39m_set_item\u001b[39m(\u001b[39mself\u001b[39m, key, value) \u001b[39m-\u001b[39m\u001b[39m>\u001b[39m \u001b[39mNone\u001b[39;00m:\n\u001b[0;32m   3823\u001b[0m     \u001b[39m\"\"\"\u001b[39;00m\n\u001b[0;32m   3824\u001b[0m \u001b[39m    Add series to DataFrame in specified column.\u001b[39;00m\n\u001b[0;32m   3825\u001b[0m \n\u001b[1;32m   (...)\u001b[0m\n\u001b[0;32m   3830\u001b[0m \u001b[39m    ensure homogeneity.\u001b[39;00m\n\u001b[0;32m   3831\u001b[0m \u001b[39m    \"\"\"\u001b[39;00m\n\u001b[1;32m-> 3832\u001b[0m     value \u001b[39m=\u001b[39m \u001b[39mself\u001b[39;49m\u001b[39m.\u001b[39;49m_sanitize_column(value)\n\u001b[0;32m   3834\u001b[0m     \u001b[39mif\u001b[39;00m (\n\u001b[0;32m   3835\u001b[0m         key \u001b[39min\u001b[39;00m \u001b[39mself\u001b[39m\u001b[39m.\u001b[39mcolumns\n\u001b[0;32m   3836\u001b[0m         \u001b[39mand\u001b[39;00m value\u001b[39m.\u001b[39mndim \u001b[39m==\u001b[39m \u001b[39m1\u001b[39m\n\u001b[0;32m   3837\u001b[0m         \u001b[39mand\u001b[39;00m \u001b[39mnot\u001b[39;00m is_extension_array_dtype(value)\n\u001b[0;32m   3838\u001b[0m     ):\n\u001b[0;32m   3839\u001b[0m         \u001b[39m# broadcast across multiple columns if necessary\u001b[39;00m\n\u001b[0;32m   3840\u001b[0m         \u001b[39mif\u001b[39;00m \u001b[39mnot\u001b[39;00m \u001b[39mself\u001b[39m\u001b[39m.\u001b[39mcolumns\u001b[39m.\u001b[39mis_unique \u001b[39mor\u001b[39;00m \u001b[39misinstance\u001b[39m(\u001b[39mself\u001b[39m\u001b[39m.\u001b[39mcolumns, MultiIndex):\n",
      "File \u001b[1;32mc:\\Users\\ADMIN\\anaconda3\\lib\\site-packages\\pandas\\core\\frame.py:4535\u001b[0m, in \u001b[0;36mDataFrame._sanitize_column\u001b[1;34m(self, value)\u001b[0m\n\u001b[0;32m   4532\u001b[0m     \u001b[39mreturn\u001b[39;00m _reindex_for_setitem(value, \u001b[39mself\u001b[39m\u001b[39m.\u001b[39mindex)\n\u001b[0;32m   4534\u001b[0m \u001b[39mif\u001b[39;00m is_list_like(value):\n\u001b[1;32m-> 4535\u001b[0m     com\u001b[39m.\u001b[39;49mrequire_length_match(value, \u001b[39mself\u001b[39;49m\u001b[39m.\u001b[39;49mindex)\n\u001b[0;32m   4536\u001b[0m \u001b[39mreturn\u001b[39;00m sanitize_array(value, \u001b[39mself\u001b[39m\u001b[39m.\u001b[39mindex, copy\u001b[39m=\u001b[39m\u001b[39mTrue\u001b[39;00m, allow_2d\u001b[39m=\u001b[39m\u001b[39mTrue\u001b[39;00m)\n",
      "File \u001b[1;32mc:\\Users\\ADMIN\\anaconda3\\lib\\site-packages\\pandas\\core\\common.py:557\u001b[0m, in \u001b[0;36mrequire_length_match\u001b[1;34m(data, index)\u001b[0m\n\u001b[0;32m    553\u001b[0m \u001b[39m\"\"\"\u001b[39;00m\n\u001b[0;32m    554\u001b[0m \u001b[39mCheck the length of data matches the length of the index.\u001b[39;00m\n\u001b[0;32m    555\u001b[0m \u001b[39m\"\"\"\u001b[39;00m\n\u001b[0;32m    556\u001b[0m \u001b[39mif\u001b[39;00m \u001b[39mlen\u001b[39m(data) \u001b[39m!=\u001b[39m \u001b[39mlen\u001b[39m(index):\n\u001b[1;32m--> 557\u001b[0m     \u001b[39mraise\u001b[39;00m \u001b[39mValueError\u001b[39;00m(\n\u001b[0;32m    558\u001b[0m         \u001b[39m\"\u001b[39m\u001b[39mLength of values \u001b[39m\u001b[39m\"\u001b[39m\n\u001b[0;32m    559\u001b[0m         \u001b[39mf\u001b[39m\u001b[39m\"\u001b[39m\u001b[39m(\u001b[39m\u001b[39m{\u001b[39;00m\u001b[39mlen\u001b[39m(data)\u001b[39m}\u001b[39;00m\u001b[39m) \u001b[39m\u001b[39m\"\u001b[39m\n\u001b[0;32m    560\u001b[0m         \u001b[39m\"\u001b[39m\u001b[39mdoes not match length of index \u001b[39m\u001b[39m\"\u001b[39m\n\u001b[0;32m    561\u001b[0m         \u001b[39mf\u001b[39m\u001b[39m\"\u001b[39m\u001b[39m(\u001b[39m\u001b[39m{\u001b[39;00m\u001b[39mlen\u001b[39m(index)\u001b[39m}\u001b[39;00m\u001b[39m)\u001b[39m\u001b[39m\"\u001b[39m\n\u001b[0;32m    562\u001b[0m     )\n",
      "\u001b[1;31mValueError\u001b[0m: Length of values (8) does not match length of index (59400)"
     ]
    }
   ],
   "source": [
    "#one-hot-coding multiple columns in list_cols_onehot\n",
    "train_engineered['source'] = train_engineered['source'].replace({'unknown':np.NaN})\n",
    "train_engineered['payment'] = train_engineered['payment'].replace({'unknown':np.NaN})\n",
    "train_engineered['payment_type'] = train_engineered['payment_type'].replace({'unknown':np.NaN})\n",
    "\n",
    "train_engineered['source'] = simplyfying_features('source',train_engineered,8)\n",
    "train_engineered['payment'] = simplyfying_features('payment',train_engineered,8)\n",
    "train_engineered['payment_type'] = simplyfying_features('payment_type',train_engineered,8)\n",
    "\n",
    "list_cols_onehot = [['source','source_type'],['payment','payment_type'],['extraction_type', \"extraction_type_group\", 'extraction_type_class']]\n",
    "train_engineered, test_engineered = one_hot_multi_cols(train_engineered,test_engineered,['source','source_type'])\n",
    "train_engineered, test_engineered = one_hot_multi_cols(train_engineered,test_engineered,['payment','payment_type'])\n",
    "train_engineered, test_engineered = one_hot_multi_cols(train_engineered,test_engineered,['extraction_type', \"extraction_type_group\", 'extraction_type_class'])"
   ]
  },
  {
   "cell_type": "markdown",
   "metadata": {},
   "source": [
    "### Handle missing values."
   ]
  },
  {
   "cell_type": "code",
   "execution_count": null,
   "metadata": {},
   "outputs": [
    {
     "data": {
      "text/plain": [
       "(59400, 181)"
      ]
     },
     "execution_count": 83,
     "metadata": {},
     "output_type": "execute_result"
    }
   ],
   "source": [
    "train_engineered.shape"
   ]
  },
  {
   "cell_type": "code",
   "execution_count": null,
   "metadata": {},
   "outputs": [
    {
     "data": {
      "text/plain": [
       "(14850, 82)"
      ]
     },
     "execution_count": 84,
     "metadata": {},
     "output_type": "execute_result"
    }
   ],
   "source": [
    "test_engineered.shape"
   ]
  },
  {
   "cell_type": "code",
   "execution_count": null,
   "metadata": {},
   "outputs": [],
   "source": []
  }
 ],
 "metadata": {
  "kernelspec": {
   "display_name": "Python 3.9.12 ('base')",
   "language": "python",
   "name": "python3"
  },
  "language_info": {
   "codemirror_mode": {
    "name": "ipython",
    "version": 3
   },
   "file_extension": ".py",
   "mimetype": "text/x-python",
   "name": "python",
   "nbconvert_exporter": "python",
   "pygments_lexer": "ipython3",
   "version": "3.9.12"
  },
  "orig_nbformat": 4,
  "vscode": {
   "interpreter": {
    "hash": "2f155fbeb9494e5ce992090b8427abe3542dae7719d8ea0d05cb0b78608edd18"
   }
  }
 },
 "nbformat": 4,
 "nbformat_minor": 2
}
